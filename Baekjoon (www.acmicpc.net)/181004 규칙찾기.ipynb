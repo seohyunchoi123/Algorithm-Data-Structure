{
 "cells": [
  {
   "cell_type": "code",
   "execution_count": 2,
   "metadata": {},
   "outputs": [
    {
     "name": "stdout",
     "output_type": "stream",
     "text": [
      "13\n",
      "3\n"
     ]
    }
   ],
   "source": [
    "# 벌집\n",
    "def cal(k):\n",
    "    return 1 + 3*k*(k-1)\n",
    "\n",
    "n = int(input())\n",
    "for i in range(n):\n",
    "    if n< cal(i):\n",
    "        print(i)\n",
    "        break"
   ]
  },
  {
   "cell_type": "code",
   "execution_count": 18,
   "metadata": {},
   "outputs": [
    {
     "data": {
      "text/plain": [
       "61"
      ]
     },
     "execution_count": 18,
     "metadata": {},
     "output_type": "execute_result"
    }
   ],
   "source": [
    "cal(5)"
   ]
  },
  {
   "cell_type": "code",
   "execution_count": 14,
   "metadata": {},
   "outputs": [
    {
     "name": "stdout",
     "output_type": "stream",
     "text": [
      "10\n",
      "4/1\n"
     ]
    }
   ],
   "source": [
    "# 분수 찾기\n",
    "def cal(k):\n",
    "    return k*(k+1)/2\n",
    "\n",
    "x=int(input())\n",
    "for i in range(x):\n",
    "    t=cal(i)\n",
    "    if t>x:\n",
    "        break\n",
    "k= i-1 # k번쨰 까지 complete\n",
    "th = x-cal(k) # k+1번쨰에서 멈춘 idx\n",
    "if th!=0:\n",
    "    if k %2==0:\n",
    "        print(int(k+2-th),'/',int(th),sep='')\n",
    "    else:\n",
    "        print(int(th),'/',int(k+2-th),sep='')\n",
    "else:\n",
    "    if k%2==0:\n",
    "        print(int(k),'/',1,sep='')\n",
    "    else:\n",
    "        print(1,'/',int(k),sep='')"
   ]
  },
  {
   "cell_type": "code",
   "execution_count": 64,
   "metadata": {
    "scrolled": true
   },
   "outputs": [
    {
     "name": "stdout",
     "output_type": "stream",
     "text": [
      "3\n",
      "0 3\n",
      "1 5 \n",
      "45 50\n",
      "3\n",
      "3\n",
      "4\n"
     ]
    }
   ],
   "source": [
    "#Fly me to the Alpha Centauri\n",
    "def cal(k):\n",
    "    if k%2==1:\n",
    "        t = k//2+1\n",
    "        return t**2\n",
    "    else:\n",
    "        t=k//2\n",
    "        return t**2 + t\n",
    "\n",
    "n = int(input())\n",
    "result=[]\n",
    "for _ in range(n):\n",
    "    x,y = list(map(int,input().split()))\n",
    "    dist = y-x\n",
    "    if dist==1:\n",
    "        result.append(1)\n",
    "    else:\n",
    "        for i in range(dist**2):\n",
    "            if dist<=cal(i):\n",
    "                break\n",
    "        result.append(i)\n",
    "    \n",
    "for t in result:\n",
    "    print(t)"
   ]
  },
  {
   "cell_type": "code",
   "execution_count": 63,
   "metadata": {},
   "outputs": [
    {
     "name": "stdout",
     "output_type": "stream",
     "text": [
      "3\n"
     ]
    }
   ],
   "source": [
    "dist=4\n",
    "for i in range(dist**2):\n",
    "    if dist<=cal(i):\n",
    "        break\n",
    "print(i)"
   ]
  },
  {
   "cell_type": "code",
   "execution_count": 53,
   "metadata": {},
   "outputs": [
    {
     "data": {
      "text/plain": [
       "1"
      ]
     },
     "execution_count": 53,
     "metadata": {},
     "output_type": "execute_result"
    }
   ],
   "source": [
    "cal(1)"
   ]
  },
  {
   "cell_type": "code",
   "execution_count": null,
   "metadata": {
    "collapsed": true
   },
   "outputs": [],
   "source": []
  }
 ],
 "metadata": {
  "anaconda-cloud": {},
  "kernelspec": {
   "display_name": "Python [default]",
   "language": "python",
   "name": "python3"
  },
  "language_info": {
   "codemirror_mode": {
    "name": "ipython",
    "version": 3
   },
   "file_extension": ".py",
   "mimetype": "text/x-python",
   "name": "python",
   "nbconvert_exporter": "python",
   "pygments_lexer": "ipython3",
   "version": "3.6.3"
  }
 },
 "nbformat": 4,
 "nbformat_minor": 2
}
