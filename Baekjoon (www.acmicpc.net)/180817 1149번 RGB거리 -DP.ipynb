{
 "cells": [
  {
   "cell_type": "code",
   "execution_count": null,
   "metadata": {
    "scrolled": true
   },
   "outputs": [
    {
     "name": "stdout",
     "output_type": "stream",
     "text": [
      "2\n",
      "1 2 2\n",
      "1 3 3\n",
      "3\n"
     ]
    }
   ],
   "source": [
    "n_house = int(float(input()))\n",
    "table=[]\n",
    "for _ in range(n_house):\n",
    "    one_row = [int(a) for a in input().split()]\n",
    "    table.append(one_row)\n",
    "\n",
    "def dp(x):\n",
    "    if len(table)==0:\n",
    "        return(0)\n",
    "    elif len(table)==1:\n",
    "        return(min(table[0]))\n",
    "    \n",
    "    elif len(table)>1:\n",
    "        candi=[]\n",
    "        t = [0,1,2]\n",
    "        for col in range(3):\n",
    "            left = list(set(t)-set([col]))\n",
    "            answer_list=[table[0][col], table[0][col] + min(table[1][left[0]], table[1][left[1]])] # 첫번째, 두번째는 정해놓고 시작\n",
    "            for i in range(2,x):\n",
    "                option_1 = answer_list[i-2] + table[i-1][1]+ min(table[i][0], table[i][2])\n",
    "                option_2 = answer_list[i-2] + table[i-1][2]+ min(table[i][0], table[i][1])\n",
    "                answer_list.append(min(option_1, option_2))\n",
    "            candi.append(answer_list[x-1])\n",
    "        return(min(candi))\n",
    "\n",
    "print(dp(len(table)))"
   ]
  },
  {
   "cell_type": "code",
   "execution_count": 137,
   "metadata": {},
   "outputs": [
    {
     "name": "stdout",
     "output_type": "stream",
     "text": [
      "5\n",
      "1 2 3\n",
      "1 2 4\n",
      "1 2 3\n",
      "5 5 5\n",
      "1 3 2\n",
      "10\n"
     ]
    }
   ],
   "source": [
    "n_house = int(float(input()))\n",
    "table=[]\n",
    "for _ in range(n_house):\n",
    "    one_row = [int(a) for a in input().split()]\n",
    "    table.append(one_row)\n",
    "\n",
    "def dp(x):\n",
    "    if x==0:\n",
    "        return(0)\n",
    "    elif x==1:\n",
    "        return(min(table[0]))\n",
    "    \n",
    "    elif x>1:\n",
    "        candi=[]\n",
    "        t = [0,1,2]\n",
    "        for col in range(3):\n",
    "            left = list(set(t)-set([col]))\n",
    "            answer_list=[table[0][col], table[0][col] + min(table[1][left[0]], table[1][left[1]])] # 첫번째, 두번째는 정해놓고 시작\n",
    "            for i in range(2,x):\n",
    "                option_1 = answer_list[i-2] + table[i-1][1]+ min(table[i][0], table[i][2])\n",
    "                option_2 = answer_list[i-2] + table[i-1][2]+ min(table[i][0], table[i][1])\n",
    "                answer_list.append(min(option_1, option_2))\n",
    "            candi.append(answer_list[x-1])\n",
    "        return(min(candi))\n",
    "\n",
    "print(dp(len(table)))"
   ]
  },
  {
   "cell_type": "code",
   "execution_count": null,
   "metadata": {
    "collapsed": true
   },
   "outputs": [],
   "source": [
    "# 앗 한 행에 같은수가 잇는경우는!!! 갠차느데 .. "
   ]
  },
  {
   "cell_type": "code",
   "execution_count": null,
   "metadata": {
    "collapsed": true
   },
   "outputs": [],
   "source": []
  },
  {
   "cell_type": "code",
   "execution_count": 3,
   "metadata": {
    "collapsed": true
   },
   "outputs": [],
   "source": [
    "table=[[26,40,83],\n",
    "      [49,60,57],\n",
    "      [13,89,99]]"
   ]
  },
  {
   "cell_type": "code",
   "execution_count": 20,
   "metadata": {},
   "outputs": [
    {
     "name": "stdout",
     "output_type": "stream",
     "text": [
      "1\n",
      "2\n",
      "3\n"
     ]
    }
   ],
   "source": [
    "a = int(input())\n",
    "b = int(input())\n",
    "    \n",
    "print(A+B)"
   ]
  },
  {
   "cell_type": "code",
   "execution_count": null,
   "metadata": {
    "collapsed": true
   },
   "outputs": [],
   "source": []
  }
 ],
 "metadata": {
  "anaconda-cloud": {},
  "kernelspec": {
   "display_name": "Python [default]",
   "language": "python",
   "name": "python3"
  },
  "language_info": {
   "codemirror_mode": {
    "name": "ipython",
    "version": 3
   },
   "file_extension": ".py",
   "mimetype": "text/x-python",
   "name": "python",
   "nbconvert_exporter": "python",
   "pygments_lexer": "ipython3",
   "version": "3.6.3"
  }
 },
 "nbformat": 4,
 "nbformat_minor": 2
}
