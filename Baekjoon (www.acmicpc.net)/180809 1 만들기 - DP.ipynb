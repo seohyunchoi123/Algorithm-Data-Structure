{
 "cells": [
  {
   "cell_type": "code",
   "execution_count": 50,
   "metadata": {},
   "outputs": [],
   "source": [
    "def dp_1 (x):\n",
    "    answer=[None,0]\n",
    "    for i in range(2,x+1):\n",
    "        candidate=[]\n",
    "        if i%2 ==0:\n",
    "            candidate.append(answer[int(i/2)]+1)\n",
    "        if i%3 ==0:\n",
    "            candidate.append(answer[int(i/3)]+1)\n",
    "        candidate.append(answer[i-1]+1)\n",
    "        answer.append(min(candidate))\n",
    "    return(answer[x])"
   ]
  },
  {
   "cell_type": "code",
   "execution_count": 53,
   "metadata": {},
   "outputs": [],
   "source": [
    "def dp_3 (x):\n",
    "    answer=[0]\n",
    "    for i in range(1,x):\n",
    "        candidate=[]\n",
    "        if (i+1)%2 ==0:\n",
    "            candidate.append(answer[int((i+1)/2-1)]+1)\n",
    "        if (i+1)%3 ==0:\n",
    "            candidate.append(answer[int((i+1)/3-1)]+1)\n",
    "        candidate.append(answer[i-1]+1)\n",
    "        answer.append(min(candidate))\n",
    "    return(answer[x-1])"
   ]
  },
  {
   "cell_type": "code",
   "execution_count": 55,
   "metadata": {},
   "outputs": [
    {
     "data": {
      "text/plain": [
       "15"
      ]
     },
     "execution_count": 55,
     "metadata": {},
     "output_type": "execute_result"
    }
   ],
   "source": [
    "dp_1(10005)"
   ]
  },
  {
   "cell_type": "code",
   "execution_count": 56,
   "metadata": {},
   "outputs": [
    {
     "data": {
      "text/plain": [
       "15"
      ]
     },
     "execution_count": 56,
     "metadata": {},
     "output_type": "execute_result"
    }
   ],
   "source": [
    "dp_3(10005)"
   ]
  },
  {
   "cell_type": "code",
   "execution_count": null,
   "metadata": {
    "collapsed": true
   },
   "outputs": [],
   "source": [
    "# 맞았다. print를 안해서 틀렸다고 나왔던거다 ."
   ]
  }
 ],
 "metadata": {
  "anaconda-cloud": {},
  "kernelspec": {
   "display_name": "Python [default]",
   "language": "python",
   "name": "python3"
  },
  "language_info": {
   "codemirror_mode": {
    "name": "ipython",
    "version": 3
   },
   "file_extension": ".py",
   "mimetype": "text/x-python",
   "name": "python",
   "nbconvert_exporter": "python",
   "pygments_lexer": "ipython3",
   "version": "3.6.3"
  }
 },
 "nbformat": 4,
 "nbformat_minor": 2
}
