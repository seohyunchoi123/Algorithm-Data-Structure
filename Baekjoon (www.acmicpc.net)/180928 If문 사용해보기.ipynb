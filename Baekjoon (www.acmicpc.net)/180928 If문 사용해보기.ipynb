{
 "cells": [
  {
   "cell_type": "code",
   "execution_count": null,
   "metadata": {
    "collapsed": true
   },
   "outputs": [],
   "source": [
    "# 시험점수\n",
    "\n",
    "n= int(input())\n",
    "\n",
    "if n >=90 :\n",
    "    print('A')\n",
    "elif n<= 89 and n>=80:\n",
    "    print('B')\n",
    "elif n<=79 and n>=70:\n",
    "    print('C')\n",
    "elif n<=69 and n>=60:\n",
    "    print('D')\n",
    "elif n<=59 and n>=0:\n",
    "    print('E')"
   ]
  },
  {
   "cell_type": "code",
   "execution_count": null,
   "metadata": {},
   "outputs": [],
   "source": [
    "# X보다 작은 수\n",
    "n,x = list(map(int,input().split()))\n",
    "n_list = list(map(int,input().split()))\n",
    "\n",
    "answer_list = []\n",
    "for t in n_list:\n",
    "    if t <x :\n",
    "        answer_list.append(t)\n",
    "        print(t, end=' ')"
   ]
  },
  {
   "cell_type": "code",
   "execution_count": 9,
   "metadata": {},
   "outputs": [
    {
     "name": "stdout",
     "output_type": "stream",
     "text": [
      "3\n",
      "5 50 50 70 80 100\n",
      "3 70 90 80\n",
      "3 70 90 81\n",
      "40.000%\n",
      "33.333%\n",
      "66.667%\n"
     ]
    }
   ],
   "source": [
    "# 평균은 넘겠지\n",
    "c = int(input())\n",
    "answer=[]\n",
    "for _ in range(c):\n",
    "    t = list(map(int, input().split()))\n",
    "    n_student = t[0]\n",
    "    scores = t[1:]\n",
    "    standard = sum(scores)/n_student\n",
    "    cnt =0\n",
    "    for t in scores:\n",
    "        if t > standard:\n",
    "            cnt +=1\n",
    "    prob = str(round(cnt/n_student*100, 3))\n",
    "    if len(prob)<6:\n",
    "        prob = prob + '0'*(6-len(prob))\n",
    "    prob = prob + '%'\n",
    "    answer.append(prob)\n",
    "    \n",
    "for ans in answer:\n",
    "    print(ans)"
   ]
  },
  {
   "cell_type": "code",
   "execution_count": 16,
   "metadata": {},
   "outputs": [
    {
     "data": {
      "text/plain": [
       "70.0"
      ]
     },
     "execution_count": 16,
     "metadata": {},
     "output_type": "execute_result"
    }
   ],
   "source": [
    "round(14/20*100,3)"
   ]
  }
 ],
 "metadata": {
  "anaconda-cloud": {},
  "kernelspec": {
   "display_name": "Python [default]",
   "language": "python",
   "name": "python3"
  },
  "language_info": {
   "codemirror_mode": {
    "name": "ipython",
    "version": 3
   },
   "file_extension": ".py",
   "mimetype": "text/x-python",
   "name": "python",
   "nbconvert_exporter": "python",
   "pygments_lexer": "ipython3",
   "version": "3.6.3"
  }
 },
 "nbformat": 4,
 "nbformat_minor": 2
}
