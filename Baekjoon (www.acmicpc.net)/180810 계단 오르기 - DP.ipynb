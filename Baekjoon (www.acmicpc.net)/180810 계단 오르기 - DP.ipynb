{
 "cells": [
  {
   "cell_type": "markdown",
   "metadata": {},
   "source": [
    "### 강화학습"
   ]
  },
  {
   "cell_type": "code",
   "execution_count": null,
   "metadata": {
    "collapsed": true
   },
   "outputs": [],
   "source": [
    "import numpy as np\n",
    "import matplotlib.pyplot as plt"
   ]
  },
  {
   "cell_type": "code",
   "execution_count": null,
   "metadata": {
    "collapsed": true
   },
   "outputs": [],
   "source": [
    "def Checking_3_in_a_row(t):    \n",
    "    diff = []\n",
    "    for i in range(len(t)-1):\n",
    "        diff.append(t[i+1]-t[i])\n",
    "        if len(diff)>=2:\n",
    "            if diff[-1] == diff[-2]==1:\n",
    "                return(True)"
   ]
  },
  {
   "cell_type": "code",
   "execution_count": null,
   "metadata": {
    "scrolled": true
   },
   "outputs": [],
   "source": [
    "np.random.randn(1,2)*100"
   ]
  },
  {
   "cell_type": "code",
   "execution_count": null,
   "metadata": {
    "collapsed": true
   },
   "outputs": [],
   "source": [
    "2122"
   ]
  },
  {
   "cell_type": "code",
   "execution_count": null,
   "metadata": {
    "collapsed": true
   },
   "outputs": [],
   "source": [
    "stair = [0,10,20,15,25,10,20]\n",
    "\n",
    "dis =0.99\n",
    "n_episode=10000\n",
    "reward_list=[]\n",
    "\n",
    "q = np.zeros(14).reshape(7,2)\n",
    "for episode in range(n_episode):\n",
    "    i=0\n",
    "    reward =0\n",
    "    state=0\n",
    "    state_record = []\n",
    "    path=[]\n",
    "    done = False\n",
    "    while not done:\n",
    "        action = np.argmax(q[state])\n",
    "        if i<=2:\n",
    "            action = np.random.choice(2,1)[0]\n",
    "        new_state = state + action + 1\n",
    "        \n",
    "        state_record.append(new_state)\n",
    "        if Checking_3_in_a_row(state_record): # 3개의 연속된 계단 시에 break\n",
    "            break\n",
    "        if new_state >6:\n",
    "            break\n",
    "#         if new_state ==6:\n",
    "#             reward +=20\n",
    "#             done = True\n",
    "            \n",
    "        i+=1  \n",
    "        reward += stair[new_state]\n",
    "        q[state,action] = reward + dis*np.max(q[new_state])\n",
    "        state = new_state\n",
    "        path.append(stair[state])\n",
    "    reward_list.append(reward)"
   ]
  },
  {
   "cell_type": "code",
   "execution_count": null,
   "metadata": {},
   "outputs": [],
   "source": [
    "i"
   ]
  },
  {
   "cell_type": "code",
   "execution_count": null,
   "metadata": {},
   "outputs": [],
   "source": [
    "state_record"
   ]
  },
  {
   "cell_type": "code",
   "execution_count": null,
   "metadata": {},
   "outputs": [],
   "source": [
    "path"
   ]
  },
  {
   "cell_type": "code",
   "execution_count": null,
   "metadata": {},
   "outputs": [],
   "source": [
    "sum(path)"
   ]
  },
  {
   "cell_type": "code",
   "execution_count": null,
   "metadata": {},
   "outputs": [],
   "source": [
    "plt.bar(range(len(reward_list)), reward_list)\n",
    "plt.show()"
   ]
  },
  {
   "cell_type": "code",
   "execution_count": null,
   "metadata": {},
   "outputs": [],
   "source": [
    "from collections import Counter\n",
    "Counter(reward_list) "
   ]
  },
  {
   "cell_type": "code",
   "execution_count": null,
   "metadata": {
    "collapsed": true
   },
   "outputs": [],
   "source": [
    "# 마지막 계단에 오게끔하는 reward, e-greedy reward를 어느정도로 줘야 계단마다의 reward와 함께 작동할때 효과적으로 학습이 진행될 수 있는지를 몰르겠다 "
   ]
  },
  {
   "cell_type": "code",
   "execution_count": null,
   "metadata": {
    "scrolled": true
   },
   "outputs": [],
   "source": [
    "q"
   ]
  },
  {
   "cell_type": "code",
   "execution_count": null,
   "metadata": {
    "collapsed": true
   },
   "outputs": [],
   "source": [
    "1111"
   ]
  },
  {
   "cell_type": "markdown",
   "metadata": {},
   "source": [
    "### DP"
   ]
  },
  {
   "cell_type": "code",
   "execution_count": null,
   "metadata": {},
   "outputs": [],
   "source": [
    "stair = [10,20,15,25,10,20]\n",
    "\n",
    "def dp (x):\n",
    "    answer_list=[stair[0], stair[0]+stair[1], max(stair[0]+ stair[1],stair[0]+ stair[2])]\n",
    "    for i in range(3,x+1):\n",
    "        answer_list.append(max(answer_list[i-3] + stair[i-1] + stair[i], answer_list[i-2] + stair[i]))\n",
    "    return(answer_list[x])\n",
    "\n",
    "def exec_dp(stair):\n",
    "    last_idx = len(stair)-1\n",
    "    return(dp(last_idx))"
   ]
  },
  {
   "cell_type": "code",
   "execution_count": null,
   "metadata": {},
   "outputs": [],
   "source": [
    "exec_dp(stair)"
   ]
  },
  {
   "cell_type": "code",
   "execution_count": null,
   "metadata": {
    "collapsed": true
   },
   "outputs": [],
   "source": [
    "length = input()\n",
    "stair = []\n",
    "for _ in range(int(length)):\n",
    "    t = input()\n",
    "    stair.append(int(t))\n"
   ]
  },
  {
   "cell_type": "code",
   "execution_count": 22,
   "metadata": {},
   "outputs": [
    {
     "name": "stdout",
     "output_type": "stream",
     "text": [
      "10\n",
      "1\n",
      "2\n",
      "3\n",
      "4\n",
      "5\n",
      "6\n",
      "7\n",
      "8\n",
      "9\n",
      "10\n",
      "40\n"
     ]
    }
   ],
   "source": [
    "## stair = [10,20,15,25,10,20]\n",
    "length = input()\n",
    "stair = []\n",
    "for _ in range(int(length)):\n",
    "    t = input()\n",
    "    stair.append(int(t))\n",
    "\n",
    "def dp (x):\n",
    "    answer_list=[stair[0], stair[0]+stair[1], max(stair[0],stair[1]) + stair[2]] # answer_list[2]가 틀렸었다 !!! max(첫번쨰+두번쨰, 첫번쨰+세번쨰)로 했엇음 \n",
    "    for i in range(3,x+1):\n",
    "        answer_list.append(max(answer_list[i-3] + stair[i-1] + stair[i], answer_list[i-2] + stair[i]))\n",
    "    return(answer_list[x])\n",
    "\n",
    "def exec_dp(array):\n",
    "    if len(array)==1:\n",
    "        return(array[0])\n",
    "    elif len(array)==2:\n",
    "        return(array[0]+array[1])\n",
    "    elif len(array)==3:\n",
    "        return(max(array[0],array[1]) + array[2])\n",
    "    else:\n",
    "        last_idx = len(array)-1\n",
    "        return(dp(last_idx))\n",
    "\n",
    "print(exec_dp(stair))"
   ]
  }
 ],
 "metadata": {
  "kernelspec": {
   "display_name": "Python [default]",
   "language": "python",
   "name": "python3"
  },
  "language_info": {
   "codemirror_mode": {
    "name": "ipython",
    "version": 3
   },
   "file_extension": ".py",
   "mimetype": "text/x-python",
   "name": "python",
   "nbconvert_exporter": "python",
   "pygments_lexer": "ipython3",
   "version": "3.6.3"
  }
 },
 "nbformat": 4,
 "nbformat_minor": 2
}
