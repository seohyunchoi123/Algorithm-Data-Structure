{
 "cells": [
  {
   "cell_type": "code",
   "execution_count": 3,
   "metadata": {},
   "outputs": [
    {
     "data": {
      "text/plain": [
       "48"
      ]
     },
     "execution_count": 3,
     "metadata": {},
     "output_type": "execute_result"
    }
   ],
   "source": [
    "# 아스키코드\n",
    "print(ord(input()))"
   ]
  },
  {
   "cell_type": "code",
   "execution_count": 15,
   "metadata": {},
   "outputs": [
    {
     "name": "stdout",
     "output_type": "stream",
     "text": [
      "abdd\n",
      "0 1 -1 2 -1 -1 -1 -1 -1 -1 -1 -1 -1 -1 -1 -1 -1 -1 -1 -1 -1 -1 -1 -1 -1 -1 "
     ]
    }
   ],
   "source": [
    "# 알파벳 찾기\n",
    "char = input()\n",
    "t = list('abcdefghijklmnopqrstuvwxyz')\n",
    "for alphabet in t:\n",
    "    print(char.find(alphabet), end=' ')"
   ]
  },
  {
   "cell_type": "code",
   "execution_count": 12,
   "metadata": {},
   "outputs": [
    {
     "data": {
      "text/plain": [
       "26"
      ]
     },
     "execution_count": 12,
     "metadata": {},
     "output_type": "execute_result"
    }
   ],
   "source": [
    "len(list('abcdefghijklmnopqrstuvwxyz'))"
   ]
  },
  {
   "cell_type": "code",
   "execution_count": 8,
   "metadata": {
    "collapsed": true
   },
   "outputs": [],
   "source": [
    "t='abb'"
   ]
  },
  {
   "cell_type": "code",
   "execution_count": 10,
   "metadata": {},
   "outputs": [
    {
     "data": {
      "text/plain": [
       "-1"
      ]
     },
     "execution_count": 10,
     "metadata": {},
     "output_type": "execute_result"
    }
   ],
   "source": [
    "t.find('c')"
   ]
  },
  {
   "cell_type": "code",
   "execution_count": 16,
   "metadata": {
    "collapsed": true
   },
   "outputs": [],
   "source": [
    "# 문자열 반복\n",
    "t='abc'"
   ]
  },
  {
   "cell_type": "code",
   "execution_count": 33,
   "metadata": {},
   "outputs": [
    {
     "name": "stdout",
     "output_type": "stream",
     "text": [
      "3\n",
      "2 abc\n",
      "2 \n",
      "4 abc\n",
      "aabbcc\n",
      "  \n",
      "aaaabbbbcccc\n"
     ]
    }
   ],
   "source": [
    "n_testcase = int(input())\n",
    "result=[]\n",
    "for _ in range(n_testcase):\n",
    "    tt = input().split()\n",
    "    if len(tt)<2:\n",
    "        num, t = [int(tt[0]), ' ']\n",
    "    else:\n",
    "        num, t = tt\n",
    "        num = int(num)\n",
    "    ans=''\n",
    "    for char in t:\n",
    "        ans += char*num\n",
    "    result.append(ans)\n",
    "for t in result:\n",
    "    print(t)"
   ]
  },
  {
   "cell_type": "code",
   "execution_count": 32,
   "metadata": {},
   "outputs": [
    {
     "data": {
      "text/plain": [
       "1"
      ]
     },
     "execution_count": 32,
     "metadata": {},
     "output_type": "execute_result"
    }
   ],
   "source": [
    "len(tt)"
   ]
  },
  {
   "cell_type": "code",
   "execution_count": 58,
   "metadata": {},
   "outputs": [
    {
     "name": "stdout",
     "output_type": "stream",
     "text": [
      "aab\n",
      "A\n"
     ]
    }
   ],
   "source": [
    "# 단어 공부\n",
    "t=input().lower()\n",
    "t_list = list(set(t))\n",
    "cnt_list =[]\n",
    "for char in t_list:\n",
    "    cnt_list.append(t.count(char))\n",
    "maximum = max(cnt_list)\n",
    "if cnt_list.count(maximum)>1 :\n",
    "    print(\"?\")\n",
    "else:\n",
    "    idx = cnt_list.index(maximum)\n",
    "    print(t_list[idx].upper())"
   ]
  },
  {
   "cell_type": "code",
   "execution_count": 47,
   "metadata": {},
   "outputs": [
    {
     "data": {
      "text/plain": [
       "1"
      ]
     },
     "execution_count": 47,
     "metadata": {},
     "output_type": "execute_result"
    }
   ],
   "source": [
    "t = [0,1,2,2]\n",
    "t.count(1)"
   ]
  },
  {
   "cell_type": "code",
   "execution_count": 56,
   "metadata": {},
   "outputs": [
    {
     "data": {
      "text/plain": [
       "'count'"
      ]
     },
     "execution_count": 56,
     "metadata": {},
     "output_type": "execute_result"
    }
   ],
   "source": [
    "t='Count'\n",
    "t.lower()"
   ]
  },
  {
   "cell_type": "code",
   "execution_count": 63,
   "metadata": {},
   "outputs": [
    {
     "name": "stdout",
     "output_type": "stream",
     "text": [
      "4\n",
      "aba\n",
      "abab\n",
      "abcabc\n",
      "a\n",
      "1\n"
     ]
    }
   ],
   "source": [
    "# 그룹 단어 체커\n",
    "\n",
    "n = int(input())\n",
    "ans=0\n",
    "for _ in range(n):\n",
    "    t = input()\n",
    "    history=[]\n",
    "    result=0\n",
    "    for char in t:\n",
    "        if char not in history:\n",
    "            history.append(char)\n",
    "            continue\n",
    "        elif history[-1] == char :\n",
    "            continue\n",
    "        else:\n",
    "            result=-1\n",
    "            break\n",
    "    if result==0:\n",
    "        ans+=1\n",
    "print(ans)\n",
    "        "
   ]
  },
  {
   "cell_type": "code",
   "execution_count": null,
   "metadata": {
    "collapsed": true
   },
   "outputs": [],
   "source": [
    "# 상수\n",
    "a, b= input().split()\n",
    "\n",
    "a = int(a[::-1])\n",
    "b = int(b[::-1])\n",
    "print(max(a,b))"
   ]
  },
  {
   "cell_type": "code",
   "execution_count": 2,
   "metadata": {},
   "outputs": [],
   "source": [
    "t='abc'"
   ]
  },
  {
   "cell_type": "code",
   "execution_count": 3,
   "metadata": {},
   "outputs": [
    {
     "data": {
      "text/plain": [
       "'cba'"
      ]
     },
     "execution_count": 3,
     "metadata": {},
     "output_type": "execute_result"
    }
   ],
   "source": [
    "t[::-1]"
   ]
  },
  {
   "cell_type": "code",
   "execution_count": 5,
   "metadata": {
    "scrolled": true
   },
   "outputs": [
    {
     "name": "stdout",
     "output_type": "stream",
     "text": [
      "UNUCIC\n",
      "36\n"
     ]
    }
   ],
   "source": [
    "#문자열\n",
    "dic = dict(zip(list('ABCDEFGHIJKLMNOPQRSTUVWXYZ'), \n",
    "                [2,2,2,3,3,3,4,4,4,5,5,5,6,6,6,7,7,7,7,8,8,8,9,9,9,9]))\n",
    "t=input()\n",
    "\n",
    "ans=0\n",
    "for char in t:\n",
    "    ans+=dic[char]+1\n",
    "print(ans)"
   ]
  },
  {
   "cell_type": "code",
   "execution_count": 9,
   "metadata": {},
   "outputs": [
    {
     "name": "stdout",
     "output_type": "stream",
     "text": [
      "ljes=njak\n",
      "['l']\n",
      "['j']\n",
      "['e']\n",
      "['s']\n",
      "4\n"
     ]
    }
   ],
   "source": [
    "# 크로아티아 알파벳\n",
    "dic =['c=', 'c-', 'dz=', 'd-', 'lj', 'nj', 's=', 'z='] + list('abcdefghijklmnopqrstuvwxyz')\n",
    "\n",
    "t=input()\n",
    "ans=0\n",
    "tmp=[]\n",
    "for char in t:\n",
    "    tmp.append(char)\n",
    "    if \"\".join(tmp) in dic:\n",
    "        ans+=1\n",
    "        print(tmp)\n",
    "        tmp=[]\n",
    "print(ans)"
   ]
  },
  {
   "cell_type": "code",
   "execution_count": 23,
   "metadata": {},
   "outputs": [
    {
     "name": "stdout",
     "output_type": "stream",
     "text": [
      "c=c=\n",
      "c 1\n",
      "= 1\n",
      "c 2\n",
      "= 2\n"
     ]
    }
   ],
   "source": [
    "# 크로아티아 알파벳\n",
    "dic =['c=', 'c-', 'dz=', 'd-', 'lj', 'nj', 's=', 'z='] \n",
    "\n",
    "t=input()\n",
    "tmp=[]\n",
    "ans=0\n",
    "for char in t:\n",
    "    ans+=1\n",
    "    tmp.append(char)\n",
    "    if len(tmp)>2 and \"\".join(tmp[-3:]) in dic:\n",
    "        ans-=2\n",
    "    elif \"\".join(tmp[-2:]) in dic:\n",
    "        ans-=1\n",
    "print(ans)"
   ]
  },
  {
   "cell_type": "code",
   "execution_count": null,
   "metadata": {
    "collapsed": true
   },
   "outputs": [],
   "source": []
  }
 ],
 "metadata": {
  "anaconda-cloud": {},
  "kernelspec": {
   "display_name": "Python [default]",
   "language": "python",
   "name": "python3"
  },
  "language_info": {
   "codemirror_mode": {
    "name": "ipython",
    "version": 3
   },
   "file_extension": ".py",
   "mimetype": "text/x-python",
   "name": "python",
   "nbconvert_exporter": "python",
   "pygments_lexer": "ipython3",
   "version": "3.6.3"
  }
 },
 "nbformat": 4,
 "nbformat_minor": 2
}
