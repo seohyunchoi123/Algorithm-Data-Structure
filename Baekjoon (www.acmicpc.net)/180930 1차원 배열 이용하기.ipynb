{
 "cells": [
  {
   "cell_type": "code",
   "execution_count": 1,
   "metadata": {},
   "outputs": [
    {
     "name": "stdout",
     "output_type": "stream",
     "text": [
      "hi iam\n",
      "2\n"
     ]
    }
   ],
   "source": [
    "# 단어의 갯수\n",
    "char = input()\n",
    "print(len(char.split()))"
   ]
  },
  {
   "cell_type": "code",
   "execution_count": 27,
   "metadata": {},
   "outputs": [
    {
     "name": "stdout",
     "output_type": "stream",
     "text": [
      "150\n",
      "266\n",
      "427\n",
      "3\n",
      "1\n",
      "0\n",
      "2\n",
      "0\n",
      "0\n",
      "0\n",
      "2\n",
      "0\n",
      "0\n"
     ]
    }
   ],
   "source": [
    "# 숫자의 갯수\n",
    "a = int(input())\n",
    "b = int(input())\n",
    "c = int(input())\n",
    "\n",
    "t = list(str(a*b*c))\n",
    "\n",
    "dic = {'0':0, '1':0, '2':0,'3':0,'4':0,'5':0,'6':0,'7':0,'8':0,'9':0,}\n",
    "for k in t:\n",
    "    dic[k]+=1\n",
    "for k in list(dic.keys()):\n",
    "    print(dic[k])"
   ]
  },
  {
   "cell_type": "code",
   "execution_count": 32,
   "metadata": {},
   "outputs": [
    {
     "name": "stdout",
     "output_type": "stream",
     "text": [
      "1\n",
      "OOXXOOXXOO\n",
      "9\n"
     ]
    }
   ],
   "source": [
    "# ox 퀴즈\n",
    "n = int(input())\n",
    "result =[]\n",
    "for _ in range(n):\n",
    "    ox = list(input())\n",
    "    total=0\n",
    "    score=0\n",
    "    for t in ox:\n",
    "        if t=='O':\n",
    "            score +=1\n",
    "        elif t=='X':\n",
    "            score =0\n",
    "        total += score\n",
    "    result.append(total)\n",
    "for t in result:\n",
    "    print(t)\n"
   ]
  },
  {
   "cell_type": "code",
   "execution_count": 29,
   "metadata": {},
   "outputs": [
    {
     "data": {
      "text/plain": [
       "['oox']"
      ]
     },
     "execution_count": 29,
     "metadata": {},
     "output_type": "execute_result"
    }
   ],
   "source": [
    "'oox'.split()"
   ]
  },
  {
   "cell_type": "code",
   "execution_count": 2,
   "metadata": {},
   "outputs": [
    {
     "name": "stdout",
     "output_type": "stream",
     "text": [
      "1 2 3 4 5 6 7 8\n",
      "ascending\n"
     ]
    }
   ],
   "source": [
    "# 음계\n",
    "arr = list(map(int, input().split()))\n",
    "\n",
    "if arr == sorted(arr, reverse=False):\n",
    "    print('ascending')\n",
    "elif arr == sorted(arr, reverse=True):\n",
    "    print('descending')\n",
    "else:\n",
    "    print('mixed')"
   ]
  },
  {
   "cell_type": "code",
   "execution_count": null,
   "metadata": {
    "collapsed": true
   },
   "outputs": [],
   "source": [
    "# 평균 점수\n",
    "scores = []\n",
    "for _ in range(5):\n",
    "    t= int(input())\n",
    "    if t<40:\n",
    "        t=40\n",
    "    scores.append(t)\n",
    "print(round(sum(scores)/5))"
   ]
  }
 ],
 "metadata": {
  "anaconda-cloud": {},
  "kernelspec": {
   "display_name": "Python [default]",
   "language": "python",
   "name": "python3"
  },
  "language_info": {
   "codemirror_mode": {
    "name": "ipython",
    "version": 3
   },
   "file_extension": ".py",
   "mimetype": "text/x-python",
   "name": "python",
   "nbconvert_exporter": "python",
   "pygments_lexer": "ipython3",
   "version": "3.6.3"
  }
 },
 "nbformat": 4,
 "nbformat_minor": 2
}
