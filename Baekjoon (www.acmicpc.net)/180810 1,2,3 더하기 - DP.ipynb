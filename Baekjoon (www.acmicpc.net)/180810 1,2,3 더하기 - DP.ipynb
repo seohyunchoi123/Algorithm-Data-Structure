{
 "cells": [
  {
   "cell_type": "code",
   "execution_count": 13,
   "metadata": {
    "collapsed": true
   },
   "outputs": [],
   "source": [
    "def dp(x):\n",
    "    answer_record=[1,2,4]\n",
    "    for i in range(3,x):\n",
    "        answer = answer_record[i-1] + answer_record[i-2] + answer_record[i-3] \n",
    "        answer_record.append(answer)\n",
    "    return(answer_record[x-1])"
   ]
  },
  {
   "cell_type": "code",
   "execution_count": null,
   "metadata": {
    "collapsed": true
   },
   "outputs": [],
   "source": [
    "n = input()\n",
    "for _ in range(int(n)):\n",
    "    x = input()\n",
    "    dp(int(x))"
   ]
  }
 ],
 "metadata": {
  "anaconda-cloud": {},
  "kernelspec": {
   "display_name": "Python [default]",
   "language": "python",
   "name": "python3"
  },
  "language_info": {
   "codemirror_mode": {
    "name": "ipython",
    "version": 3
   },
   "file_extension": ".py",
   "mimetype": "text/x-python",
   "name": "python",
   "nbconvert_exporter": "python",
   "pygments_lexer": "ipython3",
   "version": "3.6.3"
  }
 },
 "nbformat": 4,
 "nbformat_minor": 2
}
